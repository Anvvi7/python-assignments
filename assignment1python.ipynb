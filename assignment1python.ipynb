{
  "cells": [
    {
      "cell_type": "code",
      "execution_count": 1,
      "metadata": {
        "colab": {
          "base_uri": "https://localhost:8080/"
        },
        "id": "ejhrxHZjVwUz",
        "outputId": "d2c47373-5115-4b26-fb56-5ff2af99e0b8"
      },
      "outputs": [
        {
          "name": "stdout",
          "output_type": "stream",
          "text": [
            "Anything you find cool\n"
          ]
        }
      ],
      "source": [
        "print('Anything you find cool')"
      ]
    },
    {
      "cell_type": "code",
      "execution_count": 7,
      "metadata": {
        "colab": {
          "base_uri": "https://localhost:8080/"
        },
        "id": "JW7k8ewil3hy",
        "outputId": "268ecbc4-9ab0-40ad-de23-b5de35962057"
      },
      "outputs": [
        {
          "name": "stdout",
          "output_type": "stream",
          "text": [
            "enter number 12\n",
            "enter number24\n",
            "the sum is 6\n"
          ]
        }
      ],
      "source": [
        "a=input('enter number 1')\n",
        "b=input('enter number2')\n",
        "print('the sum is',(int(a)+int(b)))"
      ]
    },
    {
      "cell_type": "code",
      "execution_count": 8,
      "metadata": {
        "colab": {
          "base_uri": "https://localhost:8080/"
        },
        "id": "ZKhZT3x2mThY",
        "outputId": "e58d6d8f-14ae-429c-827a-270406eae6cf"
      },
      "outputs": [
        {
          "name": "stdout",
          "output_type": "stream",
          "text": [
            "enter first stringanvvi\n",
            "enter second stringmalik\n",
            "the concatenated string is anvvi malik\n"
          ]
        }
      ],
      "source": [
        "str1=input('enter first string')\n",
        "str2=input('enter second string')\n",
        "print('the concatenated string is',(str1+\" \"+str2))"
      ]
    },
    {
      "cell_type": "code",
      "execution_count": 9,
      "metadata": {
        "colab": {
          "base_uri": "https://localhost:8080/"
        },
        "id": "6mzE-9gNm948",
        "outputId": "b832858a-705c-48a8-fc7a-c5fbe0e10536"
      },
      "outputs": [
        {
          "name": "stdout",
          "output_type": "stream",
          "text": [
            "enter a stringanvvi\n",
            "enter a number7\n",
            "the concatenated result is anvvi7\n"
          ]
        }
      ],
      "source": [
        "s1=input('enter a string')\n",
        "num1=input('enter a number')\n",
        "print('the concatenated result is',(s1+num1))"
      ]
    },
    {
      "cell_type": "code",
      "execution_count": 11,
      "metadata": {
        "colab": {
          "base_uri": "https://localhost:8080/"
        },
        "id": "rVsCa7U_nIY4",
        "outputId": "a0239a62-70d6-4b9f-9b11-29fe08f480a7"
      },
      "outputs": [
        {
          "name": "stdout",
          "output_type": "stream",
          "text": [
            "enter a number2\n",
            "the number is positive\n"
          ]
        }
      ],
      "source": [
        "n1=int(input('enter a number'))\n",
        "if(n1>0):\n",
        "  print('the number is positive')\n",
        "elif(n1<0):\n",
        "  print('the number is negative')\n",
        "else:\n",
        "  print('the number is equal to zero')"
      ]
    },
    {
      "cell_type": "code",
      "execution_count": 13,
      "metadata": {
        "colab": {
          "base_uri": "https://localhost:8080/"
        },
        "id": "6xLVW7UMnWq2",
        "outputId": "42b0a8e2-384f-4903-bb89-1dac58385498"
      },
      "outputs": [
        {
          "name": "stdout",
          "output_type": "stream",
          "text": [
            "enter a number5\n",
            "the number is odd\n"
          ]
        }
      ],
      "source": [
        "numm=int(input('enter a number'))\n",
        "if(numm%2==0):\n",
        "  print('the number is even')\n",
        "else:\n",
        "  print('the number is odd')"
      ]
    },
    {
      "cell_type": "code",
      "execution_count": 17,
      "metadata": {
        "colab": {
          "base_uri": "https://localhost:8080/"
        },
        "id": "b_Pc8XGUnwXB",
        "outputId": "dd0bdd1f-5340-4b13-9727-eb8336293831"
      },
      "outputs": [
        {
          "name": "stdout",
          "output_type": "stream",
          "text": [
            "1\n",
            "2\n",
            "3\n",
            "4\n",
            "5\n",
            "6\n",
            "7\n",
            "8\n",
            "9\n",
            "10\n"
          ]
        }
      ],
      "source": [
        "for i in range(1,11):\n",
        "  print(i)"
      ]
    },
    {
      "cell_type": "code",
      "execution_count": 18,
      "metadata": {
        "colab": {
          "base_uri": "https://localhost:8080/"
        },
        "id": "_35rxDgvn4Zj",
        "outputId": "19b2a30e-7c9b-480d-813a-23da3850b6fe"
      },
      "outputs": [
        {
          "name": "stdout",
          "output_type": "stream",
          "text": [
            "1\n",
            "2\n",
            "3\n",
            "4\n",
            "5\n",
            "6\n",
            "7\n",
            "8\n",
            "9\n",
            "10\n"
          ]
        }
      ],
      "source": [
        "i=1\n",
        "while(i<=10):\n",
        "  print(i)\n",
        "  i=i+1"
      ]
    },
    {
      "cell_type": "code",
      "execution_count": 19,
      "metadata": {
        "colab": {
          "base_uri": "https://localhost:8080/"
        },
        "id": "vj8qanKHoI4d",
        "outputId": "a96f32fc-dc44-4c2e-ff3f-d945545371db"
      },
      "outputs": [
        {
          "name": "stdout",
          "output_type": "stream",
          "text": [
            "5050\n"
          ]
        }
      ],
      "source": [
        "sum=0;\n",
        "for i in range(1,101):\n",
        "  sum=sum+i\n",
        "print(sum)"
      ]
    },
    {
      "cell_type": "code",
      "execution_count": 22,
      "metadata": {
        "colab": {
          "base_uri": "https://localhost:8080/"
        },
        "id": "QP6l9v4roTlW",
        "outputId": "d7f10128-5ac8-4125-8b54-b30492469dce"
      },
      "outputs": [
        {
          "name": "stdout",
          "output_type": "stream",
          "text": [
            "21\n",
            "-2\n"
          ]
        }
      ],
      "source": [
        "l=[21,1,0,15,-2]\n",
        "print(max(l))\n",
        "print(min(l))"
      ]
    },
    {
      "cell_type": "code",
      "execution_count": 24,
      "metadata": {
        "colab": {
          "base_uri": "https://localhost:8080/"
        },
        "id": "Vm1Q8Ni9ofEx",
        "outputId": "89c40842-0320-408b-c6f4-fa7895ed6b87"
      },
      "outputs": [
        {
          "name": "stdout",
          "output_type": "stream",
          "text": [
            "anvvi\n"
          ]
        }
      ],
      "source": [
        "dict={\n",
        "    'age':19,\n",
        "    'name':'anvvi',\n",
        "    '|city':'ludhiana'\n",
        "}\n",
        "print(dict['name'])\n",
        "\n"
      ]
    },
    {
      "cell_type": "code",
      "execution_count": 26,
      "metadata": {
        "colab": {
          "base_uri": "https://localhost:8080/"
        },
        "id": "pk8FdUVEo1CH",
        "outputId": "c8d0ab85-d452-449f-e039-74f0d92088bc"
      },
      "outputs": [
        {
          "name": "stdout",
          "output_type": "stream",
          "text": [
            "[1, 7, 20, 21, 32]\n",
            "[32, 21, 20, 7, 1]\n"
          ]
        }
      ],
      "source": [
        "arr=[1,21,7,32,20]\n",
        "arr.sort()\n",
        "print(arr)\n",
        "arr.sort(reverse=True)\n",
        "print(arr)"
      ]
    },
    {
      "cell_type": "code",
      "execution_count": 27,
      "metadata": {
        "colab": {
          "base_uri": "https://localhost:8080/"
        },
        "id": "3v-5XhhGpI1S",
        "outputId": "523c68e8-4d13-4d42-c74d-dd700ba294ce"
      },
      "outputs": [
        {
          "name": "stdout",
          "output_type": "stream",
          "text": [
            "{'name': 'anvvi', 'age': 19, 'city': 'ludhiana', 'college': 'TIET', 'branch': 'COPC', 'group': '2Q15'}\n"
          ]
        }
      ],
      "source": [
        "dict1={\n",
        "    'name':'anvvi',\n",
        "    'age':19,\n",
        "    'city':'ludhiana'\n",
        "}\n",
        "\n",
        "dict2={\n",
        "    'college':'TIET',\n",
        "    'branch':'COPC',\n",
        "    'group':'2Q15'\n",
        "}\n",
        "\n",
        "dict1.update(dict2)\n",
        "print(dict1)"
      ]
    },
    {
      "cell_type": "code",
      "execution_count": 28,
      "metadata": {
        "colab": {
          "base_uri": "https://localhost:8080/"
        },
        "id": "UQp-6AIvpgeh",
        "outputId": "dd90cbef-7421-4735-eaa7-97425ceb1bdb"
      },
      "outputs": [
        {
          "name": "stdout",
          "output_type": "stream",
          "text": [
            "enter a stringanvvi\n",
            "2\n"
          ]
        }
      ],
      "source": [
        "str1=input('enter a string')\n",
        "count=0\n",
        "for vowel in str1:\n",
        "  if(vowel=='a' or vowel=='e' or vowel=='i'or vowel=='o' or vowel=='u'):\n",
        "    count=count+1\n",
        "print(count)"
      ]
    },
    {
      "cell_type": "code",
      "execution_count": 30,
      "metadata": {
        "colab": {
          "base_uri": "https://localhost:8080/"
        },
        "id": "R36uw5lBp-7C",
        "outputId": "74878c50-8c4c-4394-af2c-4905c2176d95"
      },
      "outputs": [
        {
          "name": "stdout",
          "output_type": "stream",
          "text": [
            "enter a stringanvvi\n",
            "ivvna\n"
          ]
        }
      ],
      "source": [
        "s1=input('enter a string')\n",
        "reversed_s1 = s1[::-1]\n",
        "print(reversed_s1)"
      ]
    },
    {
      "cell_type": "code",
      "execution_count": 32,
      "metadata": {
        "colab": {
          "base_uri": "https://localhost:8080/"
        },
        "id": "tPqoSmgdqGib",
        "outputId": "3a9c097c-d591-48e6-c316-ed2f886ea95c"
      },
      "outputs": [
        {
          "name": "stdout",
          "output_type": "stream",
          "text": [
            "enter a stringanvvi\n",
            "not a palindrome\n"
          ]
        }
      ],
      "source": [
        "s1=input('enter a string')\n",
        "reversed_s1=s1[::-1]\n",
        "if(s1==reversed_s1):\n",
        "  print('it is a palindrome')\n",
        "else:\n",
        "  print('not a palindrome')"
      ]
    },
    {
      "cell_type": "code",
      "execution_count": 33,
      "metadata": {
        "colab": {
          "base_uri": "https://localhost:8080/"
        },
        "id": "3vncDohgql51",
        "outputId": "dc9a1b6d-799c-4665-c578-72e3d9290427"
      },
      "outputs": [
        {
          "name": "stdout",
          "output_type": "stream",
          "text": [
            "Content of the file:\n",
            "This is the first line of the file.\n",
            "This is the second line.\n",
            "\n"
          ]
        }
      ],
      "source": [
        "file_name = \"example.txt\"\n",
        "\n",
        "\n",
        "with open(file_name, \"w\") as file:\n",
        "    file.write(\"This is the first line of the file.\\n\")\n",
        "    file.write(\"This is the second line.\\n\")\n",
        "with open(file_name, \"r\") as file:\n",
        "    content = file.read()\n",
        "    print(\"Content of the file:\")\n",
        "    print(content)"
      ]
    },
    {
      "cell_type": "code",
      "execution_count": 34,
      "metadata": {
        "colab": {
          "base_uri": "https://localhost:8080/"
        },
        "id": "nhWeHmDSrMdQ",
        "outputId": "a157a38a-f7d1-4666-cf8b-03d54dfcca72"
      },
      "outputs": [
        {
          "name": "stdout",
          "output_type": "stream",
          "text": [
            "Updated content of the file:\n",
            "This is the first line of the file.\n",
            "This is the second line.\n",
            "This is an appended line.\n",
            "\n"
          ]
        }
      ],
      "source": [
        "file_name = \"example.txt\"\n",
        "\n",
        "with open(file_name, \"a\") as file:\n",
        "    file.write(\"This is an appended line.\\n\")\n",
        "\n",
        "with open(file_name, \"r\") as file:\n",
        "    updated_content = file.read()\n",
        "    print(\"Updated content of the file:\")\n",
        "    print(updated_content)"
      ]
    },
    {
      "cell_type": "code",
      "execution_count": 35,
      "metadata": {
        "colab": {
          "base_uri": "https://localhost:8080/"
        },
        "id": "WHbVntOlrXam",
        "outputId": "7e34dba7-c1a9-4ade-817b-14fc33725bb5"
      },
      "outputs": [
        {
          "name": "stdout",
          "output_type": "stream",
          "text": [
            "The file contains 3 lines.\n"
          ]
        }
      ],
      "source": [
        "file_name = \"example.txt\"\n",
        "\n",
        "with open(file_name, \"r\") as file:\n",
        "    lines = file.readlines()\n",
        "    line_count = len(lines)\n",
        "\n",
        "print(f\"The file contains {line_count} lines.\")"
      ]
    },
    {
      "cell_type": "code",
      "execution_count": 37,
      "metadata": {
        "colab": {
          "base_uri": "https://localhost:8080/"
        },
        "id": "ZXhdLpbarkJZ",
        "outputId": "048cde53-4f07-42cd-b8a4-9e64688b5c09"
      },
      "outputs": [
        {
          "name": "stdout",
          "output_type": "stream",
          "text": [
            "Enter the numerator: 2\n",
            "Enter the denominator: 0\n",
            "Error: Division by zero is not allowed.\n"
          ]
        }
      ],
      "source": [
        "try:\n",
        "    numerator = int(input(\"Enter the numerator: \"))\n",
        "    denominator = int(input(\"Enter the denominator: \"))\n",
        "    result = numerator / denominator\n",
        "    print(f\"Result: {result}\")\n",
        "except ZeroDivisionError:\n",
        "    print(\"Error: Division by zero is not allowed.\")"
      ]
    },
    {
      "cell_type": "code",
      "execution_count": 39,
      "metadata": {
        "colab": {
          "base_uri": "https://localhost:8080/"
        },
        "id": "ACdO6CFJsFdu",
        "outputId": "9a2d476c-0307-451f-c030-4476c3d79c47"
      },
      "outputs": [
        {
          "name": "stdout",
          "output_type": "stream",
          "text": [
            "Enter a number: 2.3\n",
            "Error: Invalid input. Please enter a valid integer.\n"
          ]
        }
      ],
      "source": [
        "try:\n",
        "    number = int(input(\"Enter a number: \"))\n",
        "    print(f\"You entered the number: {number}\")\n",
        "except ValueError:\n",
        "    print(\"Error: Invalid input. Please enter a valid integer.\")"
      ]
    },
    {
      "cell_type": "code",
      "execution_count": 40,
      "metadata": {
        "colab": {
          "base_uri": "https://localhost:8080/"
        },
        "id": "8claXYYnsODz",
        "outputId": "52157e9b-9724-42cc-d357-c812e21f763a"
      },
      "outputs": [
        {
          "name": "stdout",
          "output_type": "stream",
          "text": [
            "Enter the numerator: 2\n",
            "Enter the denominator: 0\n",
            "Error: Division by zero is not allowed.\n",
            "Execution of the try-except block is complete.\n"
          ]
        }
      ],
      "source": [
        "try:\n",
        "    numerator = int(input(\"Enter the numerator: \"))\n",
        "    denominator = int(input(\"Enter the denominator: \"))\n",
        "    result = numerator / denominator\n",
        "    print(f\"Result: {result}\")\n",
        "except ZeroDivisionError:\n",
        "    print(\"Error: Division by zero is not allowed.\")\n",
        "except ValueError:\n",
        "    print(\"Error: Invalid input. Please enter integers only.\")\n",
        "finally:\n",
        "    print(\"Execution of the try-except block is complete.\")"
      ]
    },
    {
      "cell_type": "code",
      "execution_count": 41,
      "metadata": {
        "colab": {
          "base_uri": "https://localhost:8080/"
        },
        "id": "34Ez5ddTsXOp",
        "outputId": "7ca6e12a-bbcd-4873-fdfe-4a7dcc50923e"
      },
      "outputs": [
        {
          "name": "stdout",
          "output_type": "stream",
          "text": [
            "Random numbers: [60, 31, 26, 75, 11]\n"
          ]
        }
      ],
      "source": [
        "import random\n",
        "\n",
        "random_numbers = [random.randint(1, 100) for _ in range(5)]\n",
        "print(\"Random numbers:\", random_numbers)"
      ]
    },
    {
      "cell_type": "code",
      "execution_count": 43,
      "metadata": {
        "colab": {
          "base_uri": "https://localhost:8080/"
        },
        "id": "6YDpJTDusnJp",
        "outputId": "3db665bf-798b-45e9-9c9b-a46a3ca2a9b1"
      },
      "outputs": [
        {
          "name": "stdout",
          "output_type": "stream",
          "text": [
            "Random number: 83\n",
            "83 is a prime number.\n"
          ]
        }
      ],
      "source": [
        "import random\n",
        "\n",
        "\n",
        "def is_prime(n):\n",
        "    if n <= 1:\n",
        "        return False\n",
        "    for i in range(2, int(n**0.5) + 1):\n",
        "        if n % i == 0:\n",
        "            return False\n",
        "    return True\n",
        "\n",
        "\n",
        "random_number = random.randint(1, 100)\n",
        "print(f\"Random number: {random_number}\")\n",
        "if is_prime(random_number):\n",
        "    print(f\"{random_number} is a prime number.\")\n",
        "else:\n",
        "    print(f\"{random_number} is not a prime number.\")"
      ]
    },
    {
      "cell_type": "code",
      "execution_count": 44,
      "metadata": {
        "colab": {
          "base_uri": "https://localhost:8080/"
        },
        "id": "82elVf04sy0E",
        "outputId": "7babfdd7-e1a3-4579-d2c5-2e0c275d80a4"
      },
      "outputs": [
        {
          "name": "stdout",
          "output_type": "stream",
          "text": [
            "You rolled a 3.\n"
          ]
        }
      ],
      "source": [
        "import random\n",
        "\n",
        "die_roll = random.randint(1, 6)\n",
        "print(f\"You rolled a {die_roll}.\")"
      ]
    },
    {
      "cell_type": "code",
      "execution_count": 45,
      "metadata": {
        "colab": {
          "base_uri": "https://localhost:8080/"
        },
        "id": "J-cQbmjKs790",
        "outputId": "96a46a37-7169-44a5-ec8d-b030f7eb1be4"
      },
      "outputs": [
        {
          "name": "stdout",
          "output_type": "stream",
          "text": [
            "Shuffled list: [4, 3, 1, 6, 7, 9, 5, 8, 10, 2]\n"
          ]
        }
      ],
      "source": [
        "import random\n",
        "\n",
        "\n",
        "numbers = [1, 2, 3, 4, 5, 6, 7, 8, 9, 10]\n",
        "\n",
        "\n",
        "random.shuffle(numbers)\n",
        "print(\"Shuffled list:\", numbers)"
      ]
    },
    {
      "cell_type": "code",
      "execution_count": 46,
      "metadata": {
        "colab": {
          "base_uri": "https://localhost:8080/"
        },
        "id": "3uLhOJvjtCjE",
        "outputId": "0f3f8b89-fe71-481a-877e-965637c10c21"
      },
      "outputs": [
        {
          "name": "stdout",
          "output_type": "stream",
          "text": [
            "Randomly selected item: cherry\n"
          ]
        }
      ],
      "source": [
        "import random\n",
        "\n",
        "items = ['apple', 'banana', 'cherry', 'date', 'elderberry']\n",
        "\n",
        "\n",
        "selected_item = random.choice(items)\n",
        "print(f\"Randomly selected item: {selected_item}\")"
      ]
    },
    {
      "cell_type": "code",
      "execution_count": 47,
      "metadata": {
        "colab": {
          "base_uri": "https://localhost:8080/"
        },
        "id": "CrBB-McltKUw",
        "outputId": "4cae1287-f585-48bd-98c8-ae0920ae3d2f"
      },
      "outputs": [
        {
          "name": "stdout",
          "output_type": "stream",
          "text": [
            "Enter the desired password length: 7\n",
            "Generated password: i6?9b/\"\n"
          ]
        }
      ],
      "source": [
        "import random\n",
        "import string\n",
        "\n",
        "def generate_password(length):\n",
        "    characters = string.ascii_letters + string.digits + string.punctuation\n",
        "    password = ''.join(random.choice(characters) for _ in range(length))\n",
        "    return password\n",
        "\n",
        "password_length = int(input(\"Enter the desired password length: \"))\n",
        "print(f\"Generated password: {generate_password(password_length)}\")"
      ]
    },
    {
      "cell_type": "code",
      "execution_count": 48,
      "metadata": {
        "colab": {
          "base_uri": "https://localhost:8080/"
        },
        "id": "1kTivWwHtQeI",
        "outputId": "5f121dfb-952a-461e-e9c7-3b58ada38fd3"
      },
      "outputs": [
        {
          "name": "stdout",
          "output_type": "stream",
          "text": [
            "Randomly selected card: 4 of Diamonds\n"
          ]
        }
      ],
      "source": [
        "import random\n",
        "\n",
        "\n",
        "suits = ['Hearts', 'Diamonds', 'Clubs', 'Spades']\n",
        "ranks = ['2', '3', '4', '5', '6', '7', '8', '9', '10', 'Jack', 'Queen', 'King', 'Ace']\n",
        "deck = [f\"{rank} of {suit}\" for suit in suits for rank in ranks]\n",
        "\n",
        "random_card = random.choice(deck)\n",
        "print(f\"Randomly selected card: {random_card}\")"
      ]
    },
    {
      "cell_type": "code",
      "execution_count": 50,
      "metadata": {
        "colab": {
          "base_uri": "https://localhost:8080/"
        },
        "id": "-3ES0ZMztYkC",
        "outputId": "a924e96d-8d48-49d2-bac0-0b79dc9f6474"
      },
      "outputs": [
        {
          "name": "stdout",
          "output_type": "stream",
          "text": [
            "Error: Please provide valid numbers.\n"
          ]
        }
      ],
      "source": [
        "import sys\n",
        "\n",
        "if len(sys.argv) != 3:\n",
        "    print(\"Usage: python program.py <num1> <num2>\")\n",
        "else:\n",
        "    try:\n",
        "        num1 = float(sys.argv[1])\n",
        "        num2 = float(sys.argv[2])\n",
        "        result = num1 + num2\n",
        "        print(f\"The sum of {num1} and {num2} is: {result}\")\n",
        "    except ValueError:\n",
        "        print(\"Error: Please provide valid numbers.\")"
      ]
    },
    {
      "cell_type": "code",
      "execution_count": 51,
      "metadata": {
        "colab": {
          "base_uri": "https://localhost:8080/"
        },
        "id": "yhljOSh6uHij",
        "outputId": "adb084f8-9882-4d6b-d52d-1fb8adbffd33"
      },
      "outputs": [
        {
          "name": "stdout",
          "output_type": "stream",
          "text": [
            "The sum of 5.0 and 10.0 is: 15.0\n"
          ]
        }
      ],
      "source": [
        "import sys\n",
        "sys.argv = [\"program.py\", \"5\", \"10\"]\n",
        "\n",
        "if len(sys.argv) != 3:\n",
        "    print(\"Usage: python program.py <num1> <num2>\")\n",
        "else:\n",
        "    try:\n",
        "        num1 = float(sys.argv[1])\n",
        "        num2 = float(sys.argv[2])\n",
        "        result = num1 + num2\n",
        "        print(f\"The sum of {num1} and {num2} is: {result}\")\n",
        "    except ValueError:\n",
        "        print(\"Error: Please provide valid numbers.\")"
      ]
    },
    {
      "cell_type": "code",
      "execution_count": 52,
      "metadata": {
        "colab": {
          "base_uri": "https://localhost:8080/"
        },
        "id": "FcdIUSGBuef_",
        "outputId": "98e263f0-7913-4a79-9269-a84f7be7dbb6"
      },
      "outputs": [
        {
          "name": "stdout",
          "output_type": "stream",
          "text": [
            "The length of the string 'example string' is: 14\n"
          ]
        }
      ],
      "source": [
        "import sys\n",
        "\n",
        "sys.argv = [\"program.py\", \"example string\"]\n",
        "\n",
        "if len(sys.argv) != 2:\n",
        "    print(\"Usage: python program.py <string>\")\n",
        "else:\n",
        "    input_string = sys.argv[1]\n",
        "    string_length = len(input_string)\n",
        "    print(f\"The length of the string '{input_string}' is: {string_length}\")"
      ]
    },
    {
      "cell_type": "code",
      "execution_count": 53,
      "metadata": {
        "colab": {
          "base_uri": "https://localhost:8080/"
        },
        "id": "eA1nZMlIuq61",
        "outputId": "456c4f9e-1e2c-4fbd-aa74-c94a2dea25a3"
      },
      "outputs": [
        {
          "name": "stdout",
          "output_type": "stream",
          "text": [
            "Enter a number to calculate its square root: 36\n",
            "The square root of 36.0 is: 6.0\n"
          ]
        }
      ],
      "source": [
        "import math\n",
        "\n",
        "number = float(input(\"Enter a number to calculate its square root: \"))\n",
        "\n",
        "if number >= 0:\n",
        "    sqrt_result = math.sqrt(number)\n",
        "    print(f\"The square root of {number} is: {sqrt_result}\")\n",
        "else:\n",
        "    print(\"Square root of a negative number is not defined in real numbers.\")"
      ]
    },
    {
      "cell_type": "code",
      "execution_count": 57,
      "metadata": {
        "colab": {
          "base_uri": "https://localhost:8080/"
        },
        "id": "G1AoVKPhu9w_",
        "outputId": "b7a237c1-e7a6-4bb6-a2a0-ce365f787ae5"
      },
      "outputs": [
        {
          "name": "stdout",
          "output_type": "stream",
          "text": [
            "Current date and time: 2025-01-16 06:54:26\n"
          ]
        }
      ],
      "source": [
        "from datetime import datetime\n",
        "\n",
        "current_datetime = datetime.now()\n",
        "\n",
        "print(\"Current date and time:\", current_datetime.strftime(\"%Y-%m-%d %H:%M:%S\"))"
      ]
    },
    {
      "cell_type": "code",
      "execution_count": 58,
      "metadata": {
        "colab": {
          "base_uri": "https://localhost:8080/"
        },
        "id": "mBr1so5y5Emx",
        "outputId": "f44bfff7-fc9d-4490-be1d-3fe2353c09d8"
      },
      "outputs": [
        {
          "name": "stdout",
          "output_type": "stream",
          "text": [
            "Files in the current directory:\n",
            ".git\n"
          ]
        }
      ],
      "source": [
        "import os\n",
        "\n",
        "files = os.listdir()\n",
        "\n",
        "print(\"Files in the current directory:\")\n",
        "for file in files:\n",
        "    print(file)"
      ]
    },
    {
      "cell_type": "code",
      "execution_count": null,
      "metadata": {
        "id": "1wi7veCf5HIn"
      },
      "outputs": [],
      "source": []
    }
  ],
  "metadata": {
    "colab": {
      "provenance": []
    },
    "kernelspec": {
      "display_name": "Python 3",
      "name": "python3"
    },
    "language_info": {
      "name": "python"
    }
  },
  "nbformat": 4,
  "nbformat_minor": 0
}
