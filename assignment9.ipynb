{
  "cells": [
    {
      "cell_type": "code",
      "execution_count": 1,
      "metadata": {
        "colab": {
          "base_uri": "https://localhost:8080/"
        },
        "id": "Y5DkEjs5-paq",
        "outputId": "f116d32c-dd59-4586-966c-23c40fc11330"
      },
      "outputs": [
        {
          "name": "stdout",
          "output_type": "stream",
          "text": [
            "Requirement already satisfied: nltk in /usr/local/lib/python3.11/dist-packages (3.9.1)\n",
            "Requirement already satisfied: click in /usr/local/lib/python3.11/dist-packages (from nltk) (8.1.8)\n",
            "Requirement already satisfied: joblib in /usr/local/lib/python3.11/dist-packages (from nltk) (1.4.2)\n",
            "Requirement already satisfied: regex>=2021.8.3 in /usr/local/lib/python3.11/dist-packages (from nltk) (2024.11.6)\n",
            "Requirement already satisfied: tqdm in /usr/local/lib/python3.11/dist-packages (from nltk) (4.67.1)\n"
          ]
        }
      ],
      "source": [
        "!pip install nltk"
      ]
    },
    {
      "cell_type": "code",
      "execution_count": 2,
      "metadata": {
        "id": "qHSW2DH8KIEG"
      },
      "outputs": [],
      "source": [
        "import nltk"
      ]
    },
    {
      "cell_type": "code",
      "execution_count": 3,
      "metadata": {
        "colab": {
          "base_uri": "https://localhost:8080/"
        },
        "id": "DwGVzLa9KOBY",
        "outputId": "579d5203-50b5-456e-f287-b8de8dd5843e"
      },
      "outputs": [
        {
          "name": "stderr",
          "output_type": "stream",
          "text": [
            "[nltk_data] Downloading package punkt to /root/nltk_data...\n",
            "[nltk_data]   Package punkt is already up-to-date!\n",
            "[nltk_data] Downloading package stopwords to /root/nltk_data...\n",
            "[nltk_data]   Package stopwords is already up-to-date!\n",
            "[nltk_data] Downloading package wordnet to /root/nltk_data...\n",
            "[nltk_data]   Package wordnet is already up-to-date!\n",
            "[nltk_data] Downloading package punkt_tab to /root/nltk_data...\n",
            "[nltk_data]   Package punkt_tab is already up-to-date!\n"
          ]
        },
        {
          "data": {
            "text/plain": [
              "True"
            ]
          },
          "execution_count": 3,
          "metadata": {},
          "output_type": "execute_result"
        }
      ],
      "source": [
        "nltk.download('punkt')\n",
        "nltk.download('stopwords')\n",
        "nltk.download('wordnet')\n",
        "nltk.download('punkt_tab')"
      ]
    },
    {
      "cell_type": "code",
      "execution_count": 4,
      "metadata": {
        "id": "hlnuSCQhKWza"
      },
      "outputs": [],
      "source": [
        "from nltk.tokenize import word_tokenize\n",
        "from nltk.tokenize import sent_tokenize"
      ]
    },
    {
      "cell_type": "code",
      "execution_count": 5,
      "metadata": {
        "id": "RlomVXekKdNB"
      },
      "outputs": [],
      "source": [
        "#q1\n",
        "sentence=\"\"\"\n",
        "Hi! My name is Anvvi. My phone number is +91 6283334343. My favorite IPL team is Royal Challengers Bangalore. I've been supporting this team for as long as I have started watching cricket. Currently they are playing well this season, let's hope for the best.\n",
        "\"\"\""
      ]
    },
    {
      "cell_type": "code",
      "execution_count": 6,
      "metadata": {
        "colab": {
          "base_uri": "https://localhost:8080/"
        },
        "id": "K1_874Q2K5QO",
        "outputId": "538e2490-18de-4f80-9f85-d5e89108c03f"
      },
      "outputs": [
        {
          "name": "stdout",
          "output_type": "stream",
          "text": [
            "\n",
            "Hi! My name is Anvvi. My phone number is +91 6283334343. My favorite IPL team is Royal Challengers Bangalore. I've been supporting this team for as long as I have started watching cricket. Currently they are playing well this season, let's hope for the best.\n",
            "\n"
          ]
        }
      ],
      "source": [
        "print(sentence)"
      ]
    },
    {
      "cell_type": "code",
      "execution_count": 7,
      "metadata": {
        "id": "bc5eK8ueK73z"
      },
      "outputs": [],
      "source": [
        "import string"
      ]
    },
    {
      "cell_type": "code",
      "execution_count": 8,
      "metadata": {
        "colab": {
          "base_uri": "https://localhost:8080/"
        },
        "id": "WcyUyyghLA58",
        "outputId": "3139b6c7-c6d0-44e6-bffe-e73b416ffc50"
      },
      "outputs": [
        {
          "name": "stdout",
          "output_type": "stream",
          "text": [
            "\n",
            "Hi! My name is Anvvi. My phone number is +91 6283334343. My favorite IPL team is Royal Challengers Bangalore. I've been supporting this team for as long as I have started watching cricket. Currently they are playing well this season, let's hope for the best.\n",
            "\n",
            "\n",
            "Hi My name is Anvvi My phone number is 91 6283334343 My favorite IPL team is Royal Challengers Bangalore Ive been supporting this team for as long as I have started watching cricket Currently they are playing well this season lets hope for the best\n",
            "\n"
          ]
        }
      ],
      "source": [
        "#1a convert to lower case and remove punctuation\n",
        "sentence_lower=sentence.lower()\n",
        "print(sentence)\n",
        "sentence_clean=sentence.translate(str.maketrans(\"\",\"\",string.punctuation))\n",
        "print(sentence_clean)"
      ]
    },
    {
      "cell_type": "code",
      "execution_count": 9,
      "metadata": {
        "colab": {
          "base_uri": "https://localhost:8080/"
        },
        "id": "qwgnZ-EILFtG",
        "outputId": "ca26d576-e43f-4467-bfeb-63a369d878f5"
      },
      "outputs": [
        {
          "name": "stdout",
          "output_type": "stream",
          "text": [
            "['\\nHi!', 'My name is Anvvi.', 'My phone number is +91 6283334343.', 'My favorite IPL team is Royal Challengers Bangalore.', \"I've been supporting this team for as long as I have started watching cricket.\", \"Currently they are playing well this season, let's hope for the best.\"]\n",
            "['Hi', 'My', 'name', 'is', 'Anvvi', 'My', 'phone', 'number', 'is', '91', '6283334343', 'My', 'favorite', 'IPL', 'team', 'is', 'Royal', 'Challengers', 'Bangalore', 'Ive', 'been', 'supporting', 'this', 'team', 'for', 'as', 'long', 'as', 'I', 'have', 'started', 'watching', 'cricket', 'Currently', 'they', 'are', 'playing', 'well', 'this', 'season', 'lets', 'hope', 'for', 'the', 'best']\n"
          ]
        }
      ],
      "source": [
        "#1b\n",
        "#tokenising the corpus into sentences\n",
        "document=sent_tokenize(sentence)\n",
        "print(document)\n",
        "\n",
        "words=word_tokenize(sentence_clean)\n",
        "\n",
        "print(words)"
      ]
    },
    {
      "cell_type": "code",
      "execution_count": 10,
      "metadata": {
        "colab": {
          "base_uri": "https://localhost:8080/"
        },
        "id": "wKVHAbruNolo",
        "outputId": "84fa1be3-0237-4e0c-937e-0ddbd0341069"
      },
      "outputs": [
        {
          "name": "stdout",
          "output_type": "stream",
          "text": [
            "{'over', \"she'll\", \"we'll\", 'if', 'an', 'couldn', 'or', 'yourself', 'doing', 'should', 'their', 'into', \"i've\", 'i', 'isn', 'such', 'where', 'down', 'hasn', \"should've\", 'shan', 'from', 'here', 'm', \"you've\", 'that', 'before', 'wasn', 'doesn', 'above', 'mustn', 'its', 'will', 'same', 'hers', 'theirs', 'you', 'up', 'yours', 'about', \"they're\", 'he', \"he'd\", 'are', 'very', 'so', 'themselves', 'any', 'these', \"i'll\", 'be', \"mustn't\", 'most', 'few', 'how', 'd', \"he'll\", 'myself', 'no', \"shan't\", \"needn't\", \"won't\", 'can', 'under', 'weren', 'after', 'me', \"wasn't\", 'her', 'during', 'this', 'but', 'when', 't', 'then', 'ours', \"shouldn't\", \"didn't\", 'won', 'don', \"hasn't\", 'at', 're', 'not', 'have', 'ain', 'why', 'only', 'all', \"it's\", 'who', 'wouldn', \"mightn't\", \"weren't\", 'didn', 'had', 'hadn', 'his', \"doesn't\", 'other', \"that'll\", 'herself', \"aren't\", 'below', 'my', 'they', 'by', \"it'll\", 'what', \"i'd\", 'out', 'ourselves', 've', 'both', 'while', 'our', 'shouldn', 'there', 'because', \"haven't\", 'on', \"they'd\", \"they'll\", 'more', 'through', 'll', 'of', 'is', 'were', 'which', 'than', 'them', 'she', 'himself', 'once', \"hadn't\", \"we've\", 'mightn', \"she'd\", 'been', \"he's\", 'o', 'too', 'own', 'with', \"it'd\", 'the', 'whom', 'nor', 'was', 'having', \"you'll\", 'does', 'y', 'ma', \"she's\", 'to', 'for', \"i'm\", \"we're\", 'your', 'against', 'further', \"don't\", 's', 'did', \"you're\", 'itself', 'some', 'a', \"wouldn't\", 'do', 'haven', \"you'd\", 'him', 'we', 'off', 'am', \"they've\", 'it', 'has', 'between', \"we'd\", 'being', \"isn't\", 'now', 'and', 'aren', 'again', 'in', 'until', 'as', 'those', 'yourselves', 'needn', 'each', \"couldn't\", 'just'}\n"
          ]
        },
        {
          "name": "stderr",
          "output_type": "stream",
          "text": [
            "[nltk_data] Downloading package stopwords to /root/nltk_data...\n",
            "[nltk_data]   Package stopwords is already up-to-date!\n"
          ]
        }
      ],
      "source": [
        "#1c\n",
        "#removing stopwards from the code\n",
        "from nltk.corpus import stopwords\n",
        "nltk.download('stopwords')\n",
        "stop_words=set(stopwords.words('english'))\n",
        "print(stop_words)\n",
        "correct_words=[w for w in words if w.lower() not in stop_words]"
      ]
    },
    {
      "cell_type": "code",
      "execution_count": 11,
      "metadata": {
        "colab": {
          "base_uri": "https://localhost:8080/"
        },
        "id": "_S19PwDwPRcw",
        "outputId": "38361582-22f6-445d-b818-d6715222d7b2"
      },
      "outputs": [
        {
          "name": "stdout",
          "output_type": "stream",
          "text": [
            "['Hi', 'name', 'Anvvi', 'phone', 'number', '91', '6283334343', 'favorite', 'IPL', 'team', 'Royal', 'Challengers', 'Bangalore', 'Ive', 'supporting', 'team', 'long', 'started', 'watching', 'cricket', 'Currently', 'playing', 'well', 'season', 'lets', 'hope', 'best']\n"
          ]
        }
      ],
      "source": [
        "print(correct_words)"
      ]
    },
    {
      "cell_type": "code",
      "execution_count": 12,
      "metadata": {
        "colab": {
          "base_uri": "https://localhost:8080/",
          "height": 540
        },
        "id": "24lcbeW4Pll3",
        "outputId": "803ab6a1-688d-426c-fd8c-0af21639cb4b"
      },
      "outputs": [
        {
          "data": {
            "text/plain": [
              "<Axes: xlabel='Samples', ylabel='Counts'>"
            ]
          },
          "execution_count": 12,
          "metadata": {},
          "output_type": "execute_result"
        },
        {
          "data": {
            "image/png": "[encoded data removed]",
            "text/plain": [
              "<Figure size 640x480 with 1 Axes>"
            ]
          },
          "metadata": {},
          "output_type": "display_data"
        }
      ],
      "source": [
        "#1d\n",
        "#plotting the frequency distribution of all the words excluding\n",
        "from nltk import FreqDist\n",
        "fq=FreqDist(correct_words)\n",
        "fq.plot()"
      ]
    },
    {
      "cell_type": "code",
      "execution_count": 13,
      "metadata": {
        "id": "Xf2OB_igSHJA"
      },
      "outputs": [],
      "source": [
        "#Q2\n",
        "#2a\n",
        "new_words=correct_words"
      ]
    },
    {
      "cell_type": "code",
      "execution_count": 14,
      "metadata": {
        "id": "jAPILGi6SWqb"
      },
      "outputs": [],
      "source": [
        "#2b applying porter stemmer\n",
        "from nltk.stem import PorterStemmer\n",
        "ps=PorterStemmer()\n",
        "porter_words=[]\n",
        "for ww in new_words:\n",
        "  porter_words.append(ps.stem(ww))"
      ]
    },
    {
      "cell_type": "code",
      "execution_count": 15,
      "metadata": {
        "colab": {
          "base_uri": "https://localhost:8080/"
        },
        "id": "5OUtKVkmTgPX",
        "outputId": "237f8b1f-7843-407d-b0de-05b60b13baba"
      },
      "outputs": [
        {
          "data": {
            "text/plain": [
              "['hi',\n",
              " 'name',\n",
              " 'anvvi',\n",
              " 'phone',\n",
              " 'number',\n",
              " '91',\n",
              " '6283334343',\n",
              " 'favorit',\n",
              " 'ipl',\n",
              " 'team',\n",
              " 'royal',\n",
              " 'challeng',\n",
              " 'bangalor',\n",
              " 'ive',\n",
              " 'support',\n",
              " 'team',\n",
              " 'long',\n",
              " 'start',\n",
              " 'watch',\n",
              " 'cricket',\n",
              " 'current',\n",
              " 'play',\n",
              " 'well',\n",
              " 'season',\n",
              " 'let',\n",
              " 'hope',\n",
              " 'best']"
            ]
          },
          "execution_count": 15,
          "metadata": {},
          "output_type": "execute_result"
        }
      ],
      "source": [
        "porter_words"
      ]
    },
    {
      "cell_type": "code",
      "execution_count": 16,
      "metadata": {
        "id": "w6n7jIZZTili"
      },
      "outputs": [],
      "source": [
        "from nltk.stem import LancasterStemmer\n",
        "l=LancasterStemmer()\n",
        "lancasted_words=[]\n",
        "for ww in new_words:\n",
        "  lancasted_words.append(l.stem(ww))"
      ]
    },
    {
      "cell_type": "code",
      "execution_count": 17,
      "metadata": {
        "colab": {
          "base_uri": "https://localhost:8080/"
        },
        "id": "cEgZLQiFUlxX",
        "outputId": "074fa7dc-1af4-43b5-cb9f-0129b7ea76f6"
      },
      "outputs": [
        {
          "name": "stdout",
          "output_type": "stream",
          "text": [
            "['hi', 'nam', 'anvv', 'phon', 'numb', '91', '6283334343', 'favorit', 'ipl', 'team', 'roy', 'challeng', 'bang', 'iv', 'support', 'team', 'long', 'start', 'watch', 'cricket', 'cur', 'play', 'wel', 'season', 'let', 'hop', 'best']\n"
          ]
        }
      ],
      "source": [
        "print(lancasted_words)"
      ]
    },
    {
      "cell_type": "code",
      "execution_count": 18,
      "metadata": {
        "id": "lVO1GBr3Un1H"
      },
      "outputs": [],
      "source": [
        "#2c using WordNetLemmatizer\n",
        "from nltk.stem import WordNetLemmatizer\n",
        "lem=WordNetLemmatizer()\n",
        "lematised_words=[]\n",
        "for ww in new_words:\n",
        "  lematised_words.append(lem.lemmatize(ww))"
      ]
    },
    {
      "cell_type": "code",
      "execution_count": 19,
      "metadata": {
        "colab": {
          "base_uri": "https://localhost:8080/"
        },
        "id": "52Vh6coJVXvx",
        "outputId": "9404e388-c942-4988-af24-5d0825aa73e6"
      },
      "outputs": [
        {
          "name": "stdout",
          "output_type": "stream",
          "text": [
            "['Hi', 'name', 'Anvvi', 'phone', 'number', '91', '6283334343', 'favorite', 'IPL', 'team', 'Royal', 'Challengers', 'Bangalore', 'Ive', 'supporting', 'team', 'long', 'started', 'watching', 'cricket', 'Currently', 'playing', 'well', 'season', 'let', 'hope', 'best']\n"
          ]
        }
      ],
      "source": [
        "print(lematised_words)"
      ]
    },
    {
      "cell_type": "code",
      "execution_count": 20,
      "metadata": {
        "colab": {
          "base_uri": "https://localhost:8080/"
        },
        "id": "efmM84W3VYM8",
        "outputId": "04f3682e-4881-4a7d-cec2-07da2f1b7caa"
      },
      "outputs": [
        {
          "name": "stdout",
          "output_type": "stream",
          "text": [
            "original word-> Hi stemmed word-> hi lemmatised word-> Hi\n",
            "\n",
            "\n",
            "original word-> name stemmed word-> name lemmatised word-> name\n",
            "\n",
            "\n",
            "original word-> Anvvi stemmed word-> anvvi lemmatised word-> Anvvi\n",
            "\n",
            "\n",
            "original word-> phone stemmed word-> phone lemmatised word-> phone\n",
            "\n",
            "\n",
            "original word-> number stemmed word-> number lemmatised word-> number\n",
            "\n",
            "\n",
            "original word-> 91 stemmed word-> 91 lemmatised word-> 91\n",
            "\n",
            "\n",
            "original word-> 6283334343 stemmed word-> 6283334343 lemmatised word-> 6283334343\n",
            "\n",
            "\n",
            "original word-> favorite stemmed word-> favorit lemmatised word-> favorite\n",
            "\n",
            "\n",
            "original word-> IPL stemmed word-> ipl lemmatised word-> IPL\n",
            "\n",
            "\n",
            "original word-> team stemmed word-> team lemmatised word-> team\n",
            "\n",
            "\n",
            "original word-> Royal stemmed word-> royal lemmatised word-> Royal\n",
            "\n",
            "\n",
            "original word-> Challengers stemmed word-> challeng lemmatised word-> Challengers\n",
            "\n",
            "\n",
            "original word-> Bangalore stemmed word-> bangalor lemmatised word-> Bangalore\n",
            "\n",
            "\n",
            "original word-> Ive stemmed word-> ive lemmatised word-> Ive\n",
            "\n",
            "\n",
            "original word-> supporting stemmed word-> support lemmatised word-> supporting\n",
            "\n",
            "\n",
            "original word-> team stemmed word-> team lemmatised word-> team\n",
            "\n",
            "\n",
            "original word-> long stemmed word-> long lemmatised word-> long\n",
            "\n",
            "\n",
            "original word-> started stemmed word-> start lemmatised word-> started\n",
            "\n",
            "\n",
            "original word-> watching stemmed word-> watch lemmatised word-> watching\n",
            "\n",
            "\n",
            "original word-> cricket stemmed word-> cricket lemmatised word-> cricket\n",
            "\n",
            "\n",
            "original word-> Currently stemmed word-> current lemmatised word-> Currently\n",
            "\n",
            "\n",
            "original word-> playing stemmed word-> play lemmatised word-> playing\n",
            "\n",
            "\n",
            "original word-> well stemmed word-> well lemmatised word-> well\n",
            "\n",
            "\n",
            "original word-> season stemmed word-> season lemmatised word-> season\n",
            "\n",
            "\n",
            "original word-> lets stemmed word-> let lemmatised word-> let\n",
            "\n",
            "\n",
            "original word-> hope stemmed word-> hope lemmatised word-> hope\n",
            "\n",
            "\n",
            "original word-> best stemmed word-> best lemmatised word-> best\n",
            "\n",
            "\n"
          ]
        }
      ],
      "source": [
        "#2d comparing results of stemming and lemmatisation\n",
        "for ww in range(len(new_words)):\n",
        "  print('original word->',new_words[ww],'stemmed word->',porter_words[ww],'lemmatised word->',lematised_words[ww])\n",
        "  print('\\n')"
      ]
    },
    {
      "cell_type": "code",
      "execution_count": 21,
      "metadata": {
        "colab": {
          "base_uri": "https://localhost:8080/"
        },
        "id": "j7dK6J5LWnhj",
        "outputId": "d53efc07-26f1-402d-d0b5-2b356235b445"
      },
      "outputs": [
        {
          "name": "stdout",
          "output_type": "stream",
          "text": [
            "['number', '6283334343', 'favorite', 'Challengers', 'Bangalore', 'supporting', 'started', 'watching', 'cricket', 'Currently', 'playing', 'season']\n",
            "['91', '6283334343']\n",
            "['Hi', 'My', 'Anvvi', 'My', 'My', 'Royal', 'Challengers', 'Bangalore', 'I', 'I', 'Currently']\n",
            "['Hi', 'My', 'name', 'is', 'Anvvi', 'My', 'phone', 'number', 'is', 'My', 'favorite', 'IPL', 'team', 'is', 'Royal', 'Challengers', 'Bangalore', 'I', 've', 'been', 'supporting', 'this', 'team', 'for', 'as', 'long', 'as', 'I', 'have', 'started', 'watching', 'cricket', 'Currently', 'they', 'are', 'playing', 'well', 'this', 'season', 'let', 's', 'hope', 'for', 'the', 'best']\n",
            "['is', 'Anvvi', 'is', 'IPL', 'is', 'I', 'as', 'as', 'I', 'are']\n"
          ]
        }
      ],
      "source": [
        "#Q3\n",
        "import re\n",
        "print(re.findall(r'\\b\\w{6,}\\b',sentence))\n",
        "print(re.findall(r'\\d+',sentence))\n",
        "print(re.findall(r'\\b[A-Z][a-z]*\\b',sentence)) #capital digit hoga hi then lower case letters one or more can exist\n",
        "print(re.findall(r'\\b[A-Za-z]+\\b',sentence))\n",
        "print(re.findall(r'\\b[AEIOUaeiou][A-Za-z]*\\b',sentence))"
      ]
    },
    {
      "cell_type": "code",
      "execution_count": 22,
      "metadata": {
        "id": "JFQKkpfWY5F2"
      },
      "outputs": [],
      "source": [
        "#Q4\n",
        "import re\n",
        "def custom_tokenize(sentence):\n",
        "  pattern=r\"\"\"\n",
        "          \\b\\w+(?:'\\w+)?\\b\n",
        "          |\\b\\w+(?:-\\w+)+\\b\n",
        "          |\\b\\d+\\.\\d+\\b\n",
        "          \"\"\"\n",
        "  req=re.findall(pattern,sentence,re.VERBOSE)\n",
        "  return req"
      ]
    },
    {
      "cell_type": "code",
      "execution_count": 23,
      "metadata": {
        "colab": {
          "base_uri": "https://localhost:8080/"
        },
        "id": "nyUcNItGqp6n",
        "outputId": "8d029a81-3e4f-40a7-dbac-139aa1177c59"
      },
      "outputs": [
        {
          "name": "stdout",
          "output_type": "stream",
          "text": [
            "['Hi', 'My', 'name', 'is', 'Anvvi', 'My', 'phone', 'number', 'is', '91', '6283334343', 'My', 'favorite', 'IPL', 'team', 'is', 'Royal', 'Challengers', 'Bangalore', \"I've\", 'been', 'supporting', 'this', 'team', 'for', 'as', 'long', 'as', 'I', 'have', 'started', 'watching', 'cricket', 'Currently', 'they', 'are', 'playing', 'well', 'this', 'season', \"let's\", 'hope', 'for', 'the', 'best']\n"
          ]
        }
      ],
      "source": [
        "print(custom_tokenize(sentence))"
      ]
    },
    {
      "cell_type": "code",
      "execution_count": 24,
      "metadata": {
        "id": "_GLznmbPtOjf"
      },
      "outputs": [],
      "source": [
        "import re\n",
        "\n",
        "def clean_text(text):\n",
        "    text = re.sub(r'\\b[\\w.%+-]+@[\\w.-]+\\.[a-zA-Z]{2,}\\b', '<EMAIL>', text)\n",
        "    text = re.sub(r'https?://\\S+|www\\.\\S+', '<URL>', text)\n",
        "    text = re.sub(r'\\+\\d{1,3}\\s?\\d{5,15}', '<PHONE>', text)\n",
        "\n",
        "    return text"
      ]
    },
    {
      "cell_type": "code",
      "execution_count": 25,
      "metadata": {
        "colab": {
          "base_uri": "https://localhost:8080/"
        },
        "id": "TP6tm4AhtVbq",
        "outputId": "171cc3ab-91b0-4e39-baed-98366733e3f9"
      },
      "outputs": [
        {
          "name": "stdout",
          "output_type": "stream",
          "text": [
            "\n",
            "Hi! My name is Anvvi. My phone number is <PHONE>. My favorite IPL team is Royal Challengers Bangalore. I've been supporting this team for as long as I have started watching cricket. Currently they are playing well this season, let's hope for the best.\n",
            "\n"
          ]
        }
      ],
      "source": [
        "print(clean_text(sentence))"
      ]
    }
  ],
  "metadata": {
    "colab": {
      "provenance": []
    },
    "kernelspec": {
      "display_name": "Python 3",
      "name": "python3"
    },
    "language_info": {
      "name": "python"
    }
  },
  "nbformat": 4,
  "nbformat_minor": 0
}
