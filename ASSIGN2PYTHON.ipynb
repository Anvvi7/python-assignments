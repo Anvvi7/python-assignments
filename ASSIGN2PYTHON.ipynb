{
  "cells": [
    {
      "cell_type": "code",
      "execution_count": 7,
      "metadata": {
        "colab": {
          "base_uri": "https://localhost:8080/"
        },
        "id": "iFbTc6GbIQAV",
        "outputId": "dd669b99-1653-41f9-a934-1504197daf6b"
      },
      "outputs": [
        {
          "name": "stdout",
          "output_type": "stream",
          "text": [
            "[10, 20, 30, 40, 50, 60, 70, 80, 200, 300]\n",
            "[20, 40, 50, 60, 70, 80, 200, 300]\n",
            "[20, 40, 50, 60, 70, 80, 200, 300]\n",
            "[300, 200, 80, 70, 60, 50, 40, 20]\n"
          ]
        }
      ],
      "source": [
        "L=[10,20,30,40,50,60,70,80]\n",
        "L.append(200)\n",
        "L.append(300)\n",
        "print(L)\n",
        "L.remove(10)\n",
        "L.remove(30)\n",
        "print(L)\n",
        "L.sort()\n",
        "print(L)\n",
        "L.sort(reverse=True)\n",
        "print(L)"
      ]
    },
    {
      "cell_type": "code",
      "execution_count": 18,
      "metadata": {
        "colab": {
          "base_uri": "https://localhost:8080/"
        },
        "id": "QtDMyNgBJDtV",
        "outputId": "5dfe44f6-810c-4ef9-99b1-450a7b775a46"
      },
      "outputs": [
        {
          "name": "stdout",
          "output_type": "stream",
          "text": [
            "{5: 92}\n",
            "45 2\n",
            "[45, 58, 92, 89, 45.4, 76, 89.5, 45]\n",
            "not found\n"
          ]
        }
      ],
      "source": [
        "marks=(45,89.5,76,45.4,89,92,58,45)\n",
        "high=max(marks)\n",
        "highIdx=marks.index(high)\n",
        "print({highIdx:high})\n",
        "low=min(marks)\n",
        "cnt=marks.count(low)\n",
        "print(low,cnt)\n",
        "marks_rev=marks[::-1]\n",
        "print(list(marks_rev))\n",
        "\n",
        "flag=0\n",
        "for mark in marks:\n",
        "  if(mark==76):\n",
        "    print(marks.index(mark))\n",
        "    flag=1;\n",
        "    break\n",
        "if(flag==0):\n",
        "  print('not found')\n",
        "\n",
        "\n"
      ]
    },
    {
      "cell_type": "code",
      "execution_count": 1,
      "metadata": {
        "colab": {
          "base_uri": "https://localhost:8080/"
        },
        "id": "6FKsEPrPLZxz",
        "outputId": "52309352-7fdc-4421-b1ad-8be4ad982a57"
      },
      "outputs": [
        {
          "name": "stdout",
          "output_type": "stream",
          "text": [
            "List: [691, 232, 443, 423, 327, 556, 248, 112, 737, 316, 760, 413, 549, 241, 446, 445, 841, 223, 460, 492, 779, 169, 217, 268, 432, 160, 501, 275, 652, 413, 809, 682, 189, 224, 444, 479, 198, 333, 589, 364, 350, 219, 740, 619, 386, 493, 724, 397, 642, 299, 649, 122, 166, 540, 329, 613, 755, 339, 339, 883, 849, 100, 588, 147, 494, 299, 748, 593, 395, 164, 587, 629, 401, 429, 210, 853, 164, 133, 886, 658, 464, 636, 267, 371, 388, 897, 723, 824, 421, 120, 261, 558, 481, 683, 386, 503, 569, 417, 552, 373]\n",
            "Odd numbers: [691, 443, 423, 327, 737, 413, 549, 241, 445, 841, 223, 779, 169, 217, 501, 275, 413, 809, 189, 479, 333, 589, 219, 619, 493, 397, 299, 649, 329, 613, 755, 339, 339, 883, 849, 147, 299, 593, 395, 587, 629, 401, 429, 853, 133, 267, 371, 897, 723, 421, 261, 481, 683, 503, 569, 417, 373] \n",
            "Number of odd numbers: 57\n",
            "Even numbers: [232, 556, 248, 112, 316, 760, 446, 460, 492, 268, 432, 160, 652, 682, 224, 444, 198, 364, 350, 740, 386, 724, 642, 122, 166, 540, 100, 588, 494, 748, 164, 210, 164, 886, 658, 464, 636, 388, 824, 120, 558, 386, 552] \n",
            "Number of even numbers: 43\n",
            "Prime numbers: [691, 443, 241, 223, 809, 479, 619, 397, 613, 883, 593, 587, 401, 853, 421, 683, 503, 569, 373] \n",
            "Number of prime numbers: 19\n"
          ]
        }
      ],
      "source": [
        "import random\n",
        "rnd = []\n",
        "for i in range(0,100):\n",
        "    num = random.randint(100, 900)\n",
        "    rnd.append(num)\n",
        "print(\"List:\",rnd)\n",
        "odd = []\n",
        "even = []\n",
        "prime = []\n",
        "for j in rnd:\n",
        "    if j % 2 == 0:\n",
        "        even.append(j)\n",
        "    else:\n",
        "        odd.append(j)\n",
        "for k in rnd:\n",
        "    if k > 1:\n",
        "        pr = True\n",
        "        for l in range(2, k):\n",
        "            if k%l == 0:\n",
        "                pr = False\n",
        "                break\n",
        "        if pr:\n",
        "            prime.append(k)\n",
        "print(\"Odd numbers:\",odd,\"\\nNumber of odd numbers:\",len(odd))\n",
        "print(\"Even numbers:\",even,\"\\nNumber of even numbers:\",len(even))\n",
        "print(\"Prime numbers:\",prime,\"\\nNumber of prime numbers:\",len(prime))"
      ]
    },
    {
      "cell_type": "code",
      "execution_count": 3,
      "metadata": {
        "colab": {
          "base_uri": "https://localhost:8080/"
        },
        "id": "6lzUlYaB9Qg1",
        "outputId": "4b7966d8-829f-4284-ce6e-6c20866aca72"
      },
      "outputs": [
        {
          "name": "stdout",
          "output_type": "stream",
          "text": [
            "unique score achived by both teams {34, 45, 78, 23, 56, 90}\n",
            "\n",
            " common score  {90, 78}\n",
            "score excluive to each team {34, 45, 23, 56}\n",
            "Is A is a subset of B? False\n",
            "Is B is a subset of A? False\n",
            "enter score to remove from set A:34\n",
            "score 34 removed from set A\n",
            "A after removing the set score is {56, 90, 78}\n"
          ]
        }
      ],
      "source": [
        "A={34,56,78,90}\n",
        "B={78,45,90,23}\n",
        "\n",
        "\n",
        "union=A.union(B)\n",
        "print(\"unique score achived by both teams\",union)\n",
        "\n",
        "\n",
        "intersection=A.intersection(B)\n",
        "print(\"\\n common score \",intersection)\n",
        "\n",
        "\n",
        "symm_dif=A.symmetric_difference(B)\n",
        "print(\"score excluive to each team\",symm_dif)\n",
        "\n",
        "\n",
        "print(\"Is A is a subset of B?\",A.issubset(B))\n",
        "print(\"Is B is a subset of A?\",B.issuperset(A))\n",
        "\n",
        "\n",
        "x=int(input(\"enter score to remove from set A:\"))\n",
        "if x in A:\n",
        "    A.remove(x)\n",
        "    print(\"score\",x,\"removed from set A\")\n",
        "    print(\"A after removing the set score is\",A)\n",
        "else :\n",
        "    print(\"score \",x,\"is not present in set A.\")"
      ]
    },
    {
      "cell_type": "code",
      "execution_count": 5,
      "metadata": {
        "colab": {
          "base_uri": "https://localhost:8080/"
        },
        "id": "ht4LcRJF9zbi",
        "outputId": "9f996c7f-0f8e-4e70-8157-df4570a6f3fc"
      },
      "outputs": [
        {
          "name": "stdout",
          "output_type": "stream",
          "text": [
            "dictionary after desired changes is: {'name': 'emrata', 'population': 8000, 'location': 'New York'}\n"
          ]
        }
      ],
      "source": [
        "data = {\"name\":'emrata',\"city\": \"New York\",\"population\": 8000}\n",
        "if \"city\" in data.keys():\n",
        "    a = data.pop(\"city\")\n",
        "    data[\"location\"] = a\n",
        "print(\"dictionary after desired changes is:\",data)"
      ]
    },
    {
      "cell_type": "code",
      "execution_count": null,
      "metadata": {
        "id": "r90gE573-K_R"
      },
      "outputs": [],
      "source": []
    }
  ],
  "metadata": {
    "colab": {
      "provenance": []
    },
    "kernelspec": {
      "display_name": "Python 3",
      "name": "python3"
    },
    "language_info": {
      "name": "python"
    }
  },
  "nbformat": 4,
  "nbformat_minor": 0
}
